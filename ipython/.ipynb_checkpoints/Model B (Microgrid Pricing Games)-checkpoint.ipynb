{
 "cells": [
  {
   "cell_type": "code",
   "execution_count": 243,
   "metadata": {
    "collapsed": false
   },
   "outputs": [],
   "source": [
    "import pandas as pd\n",
    "import numpy as np\n",
    "import math\n",
    "import itertools\n",
    "import matplotlib.pyplot as plt\n",
    "import matplotlib.markers as markers\n",
    "from matplotlib.transforms import offset_copy\n",
    "from collections import namedtuple\n",
    "\n",
    "import cartopy.crs as ccrs\n",
    "import cartopy.io.img_tiles as cimgt\n",
    "\n",
    "\n",
    "%matplotlib inline"
   ]
  },
  {
   "cell_type": "code",
   "execution_count": 244,
   "metadata": {
    "collapsed": false
   },
   "outputs": [],
   "source": [
    "n = 20  # num grids\n",
    "s = 0.3 # probability of deficit\n",
    "c = 15  # macrogrid buying price\n",
    "v = 35  # macrogrid selling price\n",
    "\n",
    "s_vals = [s] * n\n",
    "\n",
    "q_vals = np.random.uniform(0, 1 - s, n)\n",
    "q_vals = sorted(q_vals, reverse=True)\n",
    "\n",
    "df = pd.DataFrame({'q': q_vals, 's': s_vals})"
   ]
  },
  {
   "cell_type": "code",
   "execution_count": 245,
   "metadata": {
    "collapsed": false
   },
   "outputs": [
    {
     "data": {
      "text/html": [
       "<div>\n",
       "<style>\n",
       "    .dataframe thead tr:only-child th {\n",
       "        text-align: right;\n",
       "    }\n",
       "\n",
       "    .dataframe thead th {\n",
       "        text-align: left;\n",
       "    }\n",
       "\n",
       "    .dataframe tbody tr th {\n",
       "        vertical-align: top;\n",
       "    }\n",
       "</style>\n",
       "<table border=\"1\" class=\"dataframe\">\n",
       "  <thead>\n",
       "    <tr style=\"text-align: right;\">\n",
       "      <th></th>\n",
       "      <th>q</th>\n",
       "      <th>s</th>\n",
       "      <th>neutral</th>\n",
       "    </tr>\n",
       "  </thead>\n",
       "  <tbody>\n",
       "    <tr>\n",
       "      <th>0</th>\n",
       "      <td>0.655386</td>\n",
       "      <td>0.3</td>\n",
       "      <td>0.044614</td>\n",
       "    </tr>\n",
       "    <tr>\n",
       "      <th>1</th>\n",
       "      <td>0.627551</td>\n",
       "      <td>0.3</td>\n",
       "      <td>0.072449</td>\n",
       "    </tr>\n",
       "    <tr>\n",
       "      <th>2</th>\n",
       "      <td>0.624959</td>\n",
       "      <td>0.3</td>\n",
       "      <td>0.075041</td>\n",
       "    </tr>\n",
       "    <tr>\n",
       "      <th>3</th>\n",
       "      <td>0.585267</td>\n",
       "      <td>0.3</td>\n",
       "      <td>0.114733</td>\n",
       "    </tr>\n",
       "    <tr>\n",
       "      <th>4</th>\n",
       "      <td>0.570404</td>\n",
       "      <td>0.3</td>\n",
       "      <td>0.129596</td>\n",
       "    </tr>\n",
       "    <tr>\n",
       "      <th>5</th>\n",
       "      <td>0.511273</td>\n",
       "      <td>0.3</td>\n",
       "      <td>0.188727</td>\n",
       "    </tr>\n",
       "    <tr>\n",
       "      <th>6</th>\n",
       "      <td>0.410214</td>\n",
       "      <td>0.3</td>\n",
       "      <td>0.289786</td>\n",
       "    </tr>\n",
       "    <tr>\n",
       "      <th>7</th>\n",
       "      <td>0.366265</td>\n",
       "      <td>0.3</td>\n",
       "      <td>0.333735</td>\n",
       "    </tr>\n",
       "    <tr>\n",
       "      <th>8</th>\n",
       "      <td>0.365388</td>\n",
       "      <td>0.3</td>\n",
       "      <td>0.334612</td>\n",
       "    </tr>\n",
       "    <tr>\n",
       "      <th>9</th>\n",
       "      <td>0.309024</td>\n",
       "      <td>0.3</td>\n",
       "      <td>0.390976</td>\n",
       "    </tr>\n",
       "    <tr>\n",
       "      <th>10</th>\n",
       "      <td>0.292821</td>\n",
       "      <td>0.3</td>\n",
       "      <td>0.407179</td>\n",
       "    </tr>\n",
       "    <tr>\n",
       "      <th>11</th>\n",
       "      <td>0.282083</td>\n",
       "      <td>0.3</td>\n",
       "      <td>0.417917</td>\n",
       "    </tr>\n",
       "    <tr>\n",
       "      <th>12</th>\n",
       "      <td>0.230126</td>\n",
       "      <td>0.3</td>\n",
       "      <td>0.469874</td>\n",
       "    </tr>\n",
       "    <tr>\n",
       "      <th>13</th>\n",
       "      <td>0.227491</td>\n",
       "      <td>0.3</td>\n",
       "      <td>0.472509</td>\n",
       "    </tr>\n",
       "    <tr>\n",
       "      <th>14</th>\n",
       "      <td>0.170574</td>\n",
       "      <td>0.3</td>\n",
       "      <td>0.529426</td>\n",
       "    </tr>\n",
       "    <tr>\n",
       "      <th>15</th>\n",
       "      <td>0.151279</td>\n",
       "      <td>0.3</td>\n",
       "      <td>0.548721</td>\n",
       "    </tr>\n",
       "    <tr>\n",
       "      <th>16</th>\n",
       "      <td>0.138013</td>\n",
       "      <td>0.3</td>\n",
       "      <td>0.561987</td>\n",
       "    </tr>\n",
       "    <tr>\n",
       "      <th>17</th>\n",
       "      <td>0.107077</td>\n",
       "      <td>0.3</td>\n",
       "      <td>0.592923</td>\n",
       "    </tr>\n",
       "    <tr>\n",
       "      <th>18</th>\n",
       "      <td>0.083191</td>\n",
       "      <td>0.3</td>\n",
       "      <td>0.616809</td>\n",
       "    </tr>\n",
       "    <tr>\n",
       "      <th>19</th>\n",
       "      <td>0.000016</td>\n",
       "      <td>0.3</td>\n",
       "      <td>0.699984</td>\n",
       "    </tr>\n",
       "  </tbody>\n",
       "</table>\n",
       "</div>"
      ],
      "text/plain": [
       "           q    s   neutral\n",
       "0   0.655386  0.3  0.044614\n",
       "1   0.627551  0.3  0.072449\n",
       "2   0.624959  0.3  0.075041\n",
       "3   0.585267  0.3  0.114733\n",
       "4   0.570404  0.3  0.129596\n",
       "5   0.511273  0.3  0.188727\n",
       "6   0.410214  0.3  0.289786\n",
       "7   0.366265  0.3  0.333735\n",
       "8   0.365388  0.3  0.334612\n",
       "9   0.309024  0.3  0.390976\n",
       "10  0.292821  0.3  0.407179\n",
       "11  0.282083  0.3  0.417917\n",
       "12  0.230126  0.3  0.469874\n",
       "13  0.227491  0.3  0.472509\n",
       "14  0.170574  0.3  0.529426\n",
       "15  0.151279  0.3  0.548721\n",
       "16  0.138013  0.3  0.561987\n",
       "17  0.107077  0.3  0.592923\n",
       "18  0.083191  0.3  0.616809\n",
       "19  0.000016  0.3  0.699984"
      ]
     },
     "execution_count": 245,
     "metadata": {},
     "output_type": "execute_result"
    }
   ],
   "source": [
    "df['neutral'] = (1 - df.q - df.s)\n",
    "df"
   ]
  },
  {
   "cell_type": "code",
   "execution_count": 246,
   "metadata": {
    "collapsed": false
   },
   "outputs": [
    {
     "ename": "SyntaxError",
     "evalue": "invalid syntax (<ipython-input-246-5f6627133edb>, line 1)",
     "output_type": "error",
     "traceback": [
      "\u001b[0;36m  File \u001b[0;32m\"<ipython-input-246-5f6627133edb>\"\u001b[0;36m, line \u001b[0;32m1\u001b[0m\n\u001b[0;31m    N = num with excess\u001b[0m\n\u001b[0m               ^\u001b[0m\n\u001b[0;31mSyntaxError\u001b[0m\u001b[0;31m:\u001b[0m invalid syntax\n"
     ]
    }
   ],
   "source": [
    "N = num with excess\n",
    "K = num with deficit\n",
    "\n",
    "P(N >= K) = SUM(i in 1 to num_grids) {P(N >= i | K <= i) * P(K <= i)}\n",
    "\n",
    "# CASE 1\n",
    "\n",
    "P(N >= 1 | K <= 1) * P(K <= 1)\n",
    "P( N>= 1) == P(N >= 1 | K <= 1)"
   ]
  },
  {
   "cell_type": "code",
   "execution_count": 247,
   "metadata": {
    "collapsed": false
   },
   "outputs": [],
   "source": [
    "# w_1 <- probability (N\\i >= K\\i)\n",
    "w_1 = (1-(1-s)**(n-1))\n",
    "w_1 = 0.7 # for now....\n",
    "\n",
    "#p_tild is the inf(support set of all prob distributions)\n",
    "p_tild = c + (v - c)*(1 - w_1)/(1 - (1 - s)**(n-1))"
   ]
  },
  {
   "cell_type": "code",
   "execution_count": 248,
   "metadata": {
    "collapsed": false
   },
   "outputs": [
    {
     "data": {
      "text/plain": [
       "<matplotlib.axes._subplots.AxesSubplot at 0x109e3ec10>"
      ]
     },
     "execution_count": 248,
     "metadata": {},
     "output_type": "execute_result"
    },
    {
     "data": {
      "image/png": "[encoded data removed]",
      "text/plain": [
       "<matplotlib.figure.Figure at 0x11edeb4d0>"
      ]
     },
     "metadata": {},
     "output_type": "display_data"
    }
   ],
   "source": [
    "df.plot(kind='bar', figsize=(12,6))"
   ]
  },
  {
   "cell_type": "code",
   "execution_count": null,
   "metadata": {
    "collapsed": true
   },
   "outputs": [],
   "source": []
  }
 ],
 "metadata": {
  "kernelspec": {
   "display_name": "Python 2",
   "language": "python",
   "name": "python2"
  },
  "language_info": {
   "codemirror_mode": {
    "name": "ipython",
    "version": 2
   },
   "file_extension": ".py",
   "mimetype": "text/x-python",
   "name": "python",
   "nbconvert_exporter": "python",
   "pygments_lexer": "ipython2",
   "version": "2.7.10"
  }
 },
 "nbformat": 4,
 "nbformat_minor": 2
}
