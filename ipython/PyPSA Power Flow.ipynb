{
 "cells": [
  {
   "cell_type": "code",
   "execution_count": 104,
   "metadata": {
    "collapsed": true
   },
   "outputs": [],
   "source": [
    "from __future__ import print_function, division\n",
    "import pyomo\n",
    "\n",
    "import pypsa\n",
    "import numpy as np\n",
    "\n",
    "import matplotlib.pyplot as plt\n",
    "%matplotlib inline "
   ]
  },
  {
   "cell_type": "code",
   "execution_count": 87,
   "metadata": {
    "collapsed": true
   },
   "outputs": [],
   "source": [
    "# global vars\n",
    "\n",
    "num_buses = 20"
   ]
  },
  {
   "cell_type": "code",
   "execution_count": 111,
   "metadata": {
    "collapsed": false
   },
   "outputs": [],
   "source": [
    "network = pypsa.Network()\n",
    "\n",
    "#add buses\n",
    "for i in range(num_buses):\n",
    "    network.add(\"Bus\",\"My bus {}\".format(i),\n",
    "                v_nom=20.)\n",
    "    \n",
    "for i in range(num_buses):\n",
    "    network.add(\"Line\",\"My line {}\".format(i),\n",
    "                bus0=\"My bus {}\".format(i),\n",
    "                bus1=\"My bus {}\".format((i+1)%num_buses),\n",
    "                x=0.1,\n",
    "                r=0.01)\n",
    "    \n",
    "#add a generator at bus 0\n",
    "network.add(\"Generator\",\"My gen\",\n",
    "            bus=\"My bus 0\",\n",
    "            p_set=[100],\n",
    "            control='PQ')\n",
    "\n",
    "#add a load at bus 5\n",
    "network.add(\"Load\", \"My load\",\n",
    "            bus=\"My bus 5\",\n",
    "            p_set=[100])"
   ]
  },
  {
   "cell_type": "code",
   "execution_count": 112,
   "metadata": {
    "collapsed": false
   },
   "outputs": [],
   "source": [
    "network.pf()"
   ]
  },
  {
   "cell_type": "code",
   "execution_count": 113,
   "metadata": {
    "collapsed": false
   },
   "outputs": [
    {
     "data": {
      "text/html": [
       "<div>\n",
       "<style>\n",
       "    .dataframe thead tr:only-child th {\n",
       "        text-align: right;\n",
       "    }\n",
       "\n",
       "    .dataframe thead th {\n",
       "        text-align: left;\n",
       "    }\n",
       "\n",
       "    .dataframe tbody tr th {\n",
       "        vertical-align: top;\n",
       "    }\n",
       "</style>\n",
       "<table border=\"1\" class=\"dataframe\">\n",
       "  <thead>\n",
       "    <tr style=\"text-align: right;\">\n",
       "      <th></th>\n",
       "      <th>My gen</th>\n",
       "    </tr>\n",
       "  </thead>\n",
       "  <tbody>\n",
       "    <tr>\n",
       "      <th>now</th>\n",
       "      <td>100.0</td>\n",
       "    </tr>\n",
       "  </tbody>\n",
       "</table>\n",
       "</div>"
      ],
      "text/plain": [
       "     My gen\n",
       "now   100.0"
      ]
     },
     "execution_count": 113,
     "metadata": {},
     "output_type": "execute_result"
    }
   ],
   "source": [
    "network.generators_t.p_set"
   ]
  },
  {
   "cell_type": "code",
   "execution_count": 114,
   "metadata": {
    "collapsed": false
   },
   "outputs": [
    {
     "data": {
      "text/html": [
       "<div>\n",
       "<style>\n",
       "    .dataframe thead tr:only-child th {\n",
       "        text-align: right;\n",
       "    }\n",
       "\n",
       "    .dataframe thead th {\n",
       "        text-align: left;\n",
       "    }\n",
       "\n",
       "    .dataframe tbody tr th {\n",
       "        vertical-align: top;\n",
       "    }\n",
       "</style>\n",
       "<table border=\"1\" class=\"dataframe\">\n",
       "  <thead>\n",
       "    <tr style=\"text-align: right;\">\n",
       "      <th></th>\n",
       "      <th>My bus 0</th>\n",
       "      <th>My bus 1</th>\n",
       "      <th>My bus 2</th>\n",
       "      <th>My bus 3</th>\n",
       "      <th>My bus 4</th>\n",
       "      <th>My bus 5</th>\n",
       "      <th>My bus 6</th>\n",
       "      <th>My bus 7</th>\n",
       "      <th>My bus 8</th>\n",
       "      <th>My bus 9</th>\n",
       "      <th>My bus 10</th>\n",
       "      <th>My bus 11</th>\n",
       "      <th>My bus 12</th>\n",
       "      <th>My bus 13</th>\n",
       "      <th>My bus 14</th>\n",
       "      <th>My bus 15</th>\n",
       "      <th>My bus 16</th>\n",
       "      <th>My bus 17</th>\n",
       "      <th>My bus 18</th>\n",
       "      <th>My bus 19</th>\n",
       "    </tr>\n",
       "  </thead>\n",
       "  <tbody>\n",
       "    <tr>\n",
       "      <th>now</th>\n",
       "      <td>0.0</td>\n",
       "      <td>-1.07816</td>\n",
       "      <td>-2.163587</td>\n",
       "      <td>-3.255568</td>\n",
       "      <td>-4.353364</td>\n",
       "      <td>-5.456208</td>\n",
       "      <td>-5.08808</td>\n",
       "      <td>-4.720456</td>\n",
       "      <td>-4.353364</td>\n",
       "      <td>-3.986833</td>\n",
       "      <td>-3.620891</td>\n",
       "      <td>-3.255568</td>\n",
       "      <td>-2.890891</td>\n",
       "      <td>-2.526888</td>\n",
       "      <td>-2.163587</td>\n",
       "      <td>-1.801014</td>\n",
       "      <td>-1.439196</td>\n",
       "      <td>-1.07816</td>\n",
       "      <td>-0.717931</td>\n",
       "      <td>-0.358536</td>\n",
       "    </tr>\n",
       "  </tbody>\n",
       "</table>\n",
       "</div>"
      ],
      "text/plain": [
       "     My bus 0  My bus 1  My bus 2  My bus 3  My bus 4  My bus 5  My bus 6  \\\n",
       "now       0.0  -1.07816 -2.163587 -3.255568 -4.353364 -5.456208  -5.08808   \n",
       "\n",
       "     My bus 7  My bus 8  My bus 9  My bus 10  My bus 11  My bus 12  My bus 13  \\\n",
       "now -4.720456 -4.353364 -3.986833  -3.620891  -3.255568  -2.890891  -2.526888   \n",
       "\n",
       "     My bus 14  My bus 15  My bus 16  My bus 17  My bus 18  My bus 19  \n",
       "now  -2.163587  -1.801014  -1.439196   -1.07816  -0.717931  -0.358536  "
      ]
     },
     "execution_count": 114,
     "metadata": {},
     "output_type": "execute_result"
    }
   ],
   "source": [
    "network.buses_t.v_ang*180/np.pi"
   ]
  },
  {
   "cell_type": "code",
   "execution_count": 128,
   "metadata": {
    "collapsed": false
   },
   "outputs": [
    {
     "data": {
      "text/plain": [
       "<matplotlib.axes._subplots.AxesSubplot at 0x117b3fad0>"
      ]
     },
     "execution_count": 128,
     "metadata": {},
     "output_type": "execute_result"
    },
    {
     "data": {
      "image/png": "[encoded data removed]",
      "text/plain": [
       "<matplotlib.figure.Figure at 0x1179a7b10>"
      ]
     },
     "metadata": {},
     "output_type": "display_data"
    }
   ],
   "source": [
    "(network.buses_t.v_ang*180/np.pi).plot(kind='bar', legend=None, figsize=(16,5))"
   ]
  },
  {
   "cell_type": "code",
   "execution_count": 130,
   "metadata": {
    "collapsed": false
   },
   "outputs": [
    {
     "data": {
      "text/plain": [
       "<matplotlib.axes._subplots.AxesSubplot at 0x1179bf750>"
      ]
     },
     "execution_count": 130,
     "metadata": {},
     "output_type": "execute_result"
    },
    {
     "data": {
      "image/png": "[encoded data removed]",
      "text/plain": [
       "<matplotlib.figure.Figure at 0x113533d50>"
      ]
     },
     "metadata": {},
     "output_type": "display_data"
    }
   ],
   "source": [
    "network.buses_t.v_mag_pu.plot(kind='bar', legend=None, figsize=(16,5))"
   ]
  },
  {
   "cell_type": "code",
   "execution_count": 115,
   "metadata": {
    "collapsed": false
   },
   "outputs": [
    {
     "name": "stdout",
     "output_type": "stream",
     "text": [
      "     My gen\n",
      "now   100.0\n"
     ]
    }
   ],
   "source": [
    "print(network.generators_t.p_set)"
   ]
  },
  {
   "cell_type": "code",
   "execution_count": null,
   "metadata": {
    "collapsed": true
   },
   "outputs": [],
   "source": []
  }
 ],
 "metadata": {
  "kernelspec": {
   "display_name": "Python 2",
   "language": "python",
   "name": "python2"
  },
  "language_info": {
   "codemirror_mode": {
    "name": "ipython",
    "version": 2
   },
   "file_extension": ".py",
   "mimetype": "text/x-python",
   "name": "python",
   "nbconvert_exporter": "python",
   "pygments_lexer": "ipython2",
   "version": "2.7.10"
  }
 },
 "nbformat": 4,
 "nbformat_minor": 2
}
